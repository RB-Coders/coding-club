{
 "cells": [
  {
   "cell_type": "markdown",
   "metadata": {},
   "source": [
    "Python basics\n",
    "=======\n",
    "\n",
    "This notebook is intended to teach you the absolute bare basics required to understand Python programming.\n",
    "If you have any previous experience with Python, or other programming languages, you may skip this."
   ]
  },
  {
   "cell_type": "markdown",
   "metadata": {},
   "source": [
    "Data types\n",
    "---------\n",
    "\n",
    "In programming, there are different types of data, for different uses. Here I explain most types of data you will be working with, when programming in Python:"
   ]
  },
  {
   "cell_type": "markdown",
   "metadata": {},
   "source": [
    "The first type is a __string__.\n",
    "This is essentially text that means nothing to the computer. Perfect for explaining something to the user. \n",
    "You can tell a string by quotation, or speech marks.\n",
    "The following are strings. Note the speech/quotation marks. "
   ]
  },
  {
   "cell_type": "code",
   "execution_count": null,
   "metadata": {},
   "outputs": [],
   "source": [
    "\"This is a string\""
   ]
  },
  {
   "cell_type": "code",
   "execution_count": null,
   "metadata": {},
   "outputs": [],
   "source": [
    "'This is also a string'"
   ]
  },
  {
   "cell_type": "markdown",
   "metadata": {},
   "source": [
    "There is no difference between strings in quotation marks, and speech marks. The both do the same. However, you cannot mix and match. A string that opens in a quotation mark and closed in a speech mark will now work as shown here:"
   ]
  },
  {
   "cell_type": "code",
   "execution_count": null,
   "metadata": {},
   "outputs": [],
   "source": [
    "\"This will not work'"
   ]
  },
  {
   "cell_type": "markdown",
   "metadata": {},
   "source": [
    "The next type are __Integers__ or __ints__ for short.\n",
    "\n",
    "They are numbers that are intended to be used for calculations, and don't have a decimal point.\n",
    "You assign them, simply by the number."
   ]
  },
  {
   "cell_type": "code",
   "execution_count": null,
   "metadata": {},
   "outputs": [],
   "source": [
    "53"
   ]
  },
  {
   "cell_type": "markdown",
   "metadata": {},
   "source": [
    "__lists__, __dictionaries__ and __tuples__.\n",
    "Python also has some 'container' types which you will be using a lot.\n",
    "The first of these are lists. They are exactly as they sound. It can hold a list of things. It can contain anything at all, or a mix of things. Therefore a list is great to just hold a whole mix of data. But the important thing for lists is that they are mutable. That is to say, the contents can be changed, added to, or removed from.\n",
    "A list is noticable by block brackets. The following is an example list:"
   ]
  },
  {
   "cell_type": "code",
   "execution_count": null,
   "metadata": {},
   "outputs": [],
   "source": [
    "['Hello', 5, 3, ['a', 'b'], 10]"
   ]
  },
  {
   "cell_type": "markdown",
   "metadata": {},
   "source": [
    "You may be confused by the list inside a list. Like I said, a list can hold any type of data, including another list."
   ]
  },
  {
   "cell_type": "markdown",
   "metadata": {},
   "source": [
    "Another type is __tuple__. A tuple is basically the same as a list, except it's immutable, meaning it cannot be changed. The reason you would use a tuple and not a list is if you want data to not be able to be changed. A tuple uses brackets:"
   ]
  },
  {
   "cell_type": "code",
   "execution_count": null,
   "metadata": {},
   "outputs": [],
   "source": [
    "('this', 'is', 'a', 'tuple')"
   ]
  },
  {
   "cell_type": "markdown",
   "metadata": {},
   "source": [
    "Finally, there is the __dictionary__.\n",
    "The dictionary is very different to the others mentioned. This uses a key and value system.\n",
    "This is really handy if you want to store data and reference it by some key word. It uses a curly bracket:"
   ]
  },
  {
   "cell_type": "code",
   "execution_count": null,
   "metadata": {},
   "outputs": [],
   "source": [
    "{'key1': 'This', 'key2': 'is', 'key3': 'a', 'key4': 'dictionary'}"
   ]
  },
  {
   "cell_type": "markdown",
   "metadata": {},
   "source": [
    "More information about dictionaries later.\n",
    "\n",
    "These are the main data types."
   ]
  },
  {
   "cell_type": "code",
   "execution_count": null,
   "metadata": {
    "collapsed": true
   },
   "outputs": [],
   "source": []
  }
 ],
 "metadata": {
  "kernelspec": {
   "display_name": "Python 2",
   "language": "python",
   "name": "python2"
  },
  "language_info": {
   "codemirror_mode": {
    "name": "ipython",
    "version": 2
   },
   "file_extension": ".py",
   "mimetype": "text/x-python",
   "name": "python",
   "nbconvert_exporter": "python",
   "pygments_lexer": "ipython2",
   "version": "2.7.10"
  }
 },
 "nbformat": 4,
 "nbformat_minor": 2
}
