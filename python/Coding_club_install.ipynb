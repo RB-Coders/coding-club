{
 "cells": [
  {
   "cell_type": "markdown",
   "metadata": {},
   "source": [
    "Python coding club installation\n",
    "================="
   ]
  },
  {
   "cell_type": "markdown",
   "metadata": {
    "collapsed": true
   },
   "source": [
    "Preparing your computer for coding club is pretty straight forward.\n",
    "We will, however, be using some extra packages.\n"
   ]
  },
  {
   "cell_type": "markdown",
   "metadata": {},
   "source": [
    "GNU/Linux\n",
    "-----\n",
    "GNU/Linux comes pre-installed with Python.\n",
    "\n",
    "If you find that your version of Linux does not include Python, you can install it using the following command given in the terminal:\n",
    "\n",
    "Ubuntu/Linux Mint/Debian:"
   ]
  },
  {
   "cell_type": "code",
   "execution_count": null,
   "metadata": {
    "collapsed": true
   },
   "outputs": [],
   "source": [
    "sudo apt-get install python2.7 git"
   ]
  },
  {
   "cell_type": "markdown",
   "metadata": {},
   "source": [
    "Fedora/CentOS/RHEL:"
   ]
  },
  {
   "cell_type": "code",
   "execution_count": null,
   "metadata": {
    "collapsed": true
   },
   "outputs": [],
   "source": [
    "dnf install python2.7 git"
   ]
  },
  {
   "cell_type": "markdown",
   "metadata": {},
   "source": [
    "MacOS\n",
    "-----"
   ]
  },
  {
   "cell_type": "markdown",
   "metadata": {},
   "source": [
    "As with Linux, Python comes pre-installed with MacOS.\n",
    "\n",
    "You can install a better version through brew.\n",
    "To install brew if you do not already have it installed, [visit this page](https://www.moncefbelyamani.com/how-to-install-xcode-homebrew-git-rvm-ruby-on-mac/)\n",
    "\n",
    "Once installed, install Python:"
   ]
  },
  {
   "cell_type": "code",
   "execution_count": null,
   "metadata": {
    "collapsed": true
   },
   "outputs": [],
   "source": [
    "sudo brew install python2.7 git"
   ]
  },
  {
   "cell_type": "markdown",
   "metadata": {},
   "source": [
    "Windows\n",
    "-------"
   ]
  },
  {
   "cell_type": "markdown",
   "metadata": {},
   "source": [
    "Windows does not come preinstalled with Python like Linux and MacOS. It is pretty easy to install Python though.\n",
    "\n",
    "Firstly, download and install Python from the links below. If you are unsure which architecture you have, select 32-bit.\n",
    "\n",
    "[32-bit installation](https://www.python.org/ftp/python/2.7.11/python-2.7.11.msi)\n",
    "\n",
    "[64-bit installation](https://www.python.org/ftp/python/2.7.11/python-2.7.11.amd64.msi)\n",
    "\n",
    "Once downloaded, run the installation file.\n",
    "\n",
    "If asked, select 'Install for all users'. When asked which features to install, ensure you click 'add python.exe to path' as shown below.\n",
    "\n",
    "![alt](https://www.howtogeek.com/wp-content/uploads/2017/05/ximg_591a09e55df0e.png.pagespeed.gp+jp+jw+pj+ws+js+rj+rp+rw+ri+cp+md.ic.Sy31NTwaIO.png)"
   ]
  },
  {
   "cell_type": "markdown",
   "metadata": {},
   "source": [
    "Git\n",
    "---\n",
    "You will also need Git.\n",
    "\n",
    "This is very simple, simply [download this file, and install it](https://git-for-windows.github.io/)\n"
   ]
  },
  {
   "cell_type": "markdown",
   "metadata": {},
   "source": [
    "Integrated Development Environment (IDE)\n",
    "======================\n",
    "\n",
    "With programming, you will need to a place to write your code. We don't use text editors as they don't have many of the things you need when writing code.\n",
    "\n",
    "For Python development, no IDE comes close to PyCharm by JetBrains.\n",
    "\n",
    "Luckily there is a community version, which allows you to use it for free.\n",
    "\n",
    "It can be downloaded [here](https://www.jetbrains.com/pycharm/download/)\n",
    "\n",
    "VirtualEnv\n",
    "======\n",
    "VirtualEnv is a great way to create special containers for different projects.\n",
    "This allows you to have a container with all the bits you need for one project without it interfering with another project.\n",
    "\n",
    "Once Python is installed, you can install virtualenv by opening a Terminal on Linux and Mac, or opening Command Prompt on Windows and entering the following command:"
   ]
  },
  {
   "cell_type": "code",
   "execution_count": null,
   "metadata": {
    "collapsed": true
   },
   "outputs": [],
   "source": [
    "pip install virtualenv"
   ]
  },
  {
   "cell_type": "markdown",
   "metadata": {
    "collapsed": true
   },
   "source": [
    "Installing Jupyter Notebook\n",
    "==============="
   ]
  },
  {
   "cell_type": "markdown",
   "metadata": {},
   "source": [
    "Jupyiter notebook is a great way to go over programming notes.\n",
    "It is essentially a Python interpreter in a webpage. This way you can see how something works and by hitting Shift+Enter, you can see the output.\n",
    "\n",
    "Because of this useful technique, it makes coding club notes ideal. You can download a notebook (like this one) and open it in Jupyter Notebook to see what was discussed and see how that worked.\n",
    "\n",
    "However, to be able to run notebooks like these on your own computer, you will need Jupyter Notebook. Luckily it's very easy to install."
   ]
  },
  {
   "cell_type": "code",
   "execution_count": null,
   "metadata": {},
   "outputs": [],
   "source": [
    "pip install jupyter"
   ]
  },
  {
   "cell_type": "markdown",
   "metadata": {},
   "source": [
    "The code above will install Jupyiter on all operating systems. Simply run that command in your Terminal if you are on Linux or Mac, or if you are on Windows, run it in the command prompt.\n",
    "\n",
    "Once installed, you can open it by typing the following into your Terminal/Command prompt:"
   ]
  },
  {
   "cell_type": "code",
   "execution_count": null,
   "metadata": {},
   "outputs": [],
   "source": [
    "jupyter-notebook"
   ]
  },
  {
   "cell_type": "code",
   "execution_count": null,
   "metadata": {
    "collapsed": true
   },
   "outputs": [],
   "source": []
  }
 ],
 "metadata": {
  "kernelspec": {
   "display_name": "Python 2",
   "language": "python",
   "name": "python2"
  },
  "language_info": {
   "codemirror_mode": {
    "name": "ipython",
    "version": 2
   },
   "file_extension": ".py",
   "mimetype": "text/x-python",
   "name": "python",
   "nbconvert_exporter": "python",
   "pygments_lexer": "ipython2",
   "version": "2.7.10"
  }
 },
 "nbformat": 4,
 "nbformat_minor": 2
}
